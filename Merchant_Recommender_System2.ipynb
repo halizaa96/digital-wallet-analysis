{
  "nbformat": 4,
  "nbformat_minor": 0,
  "metadata": {
    "colab": {
      "provenance": []
    },
    "kernelspec": {
      "name": "python3",
      "display_name": "Python 3"
    },
    "language_info": {
      "name": "python"
    }
  },
  "cells": [
    {
      "cell_type": "markdown",
      "source": [
        "#**Merchant Recommendation System**"
      ],
      "metadata": {
        "id": "RuDy0YnvYiEk"
      }
    },
    {
      "cell_type": "markdown",
      "source": [
        "This project develops a recommender system for merchant, focusing on personalized merchant suggestions for users.\n",
        "\n",
        "The dataset used in this project is “Digital Wallet Transaction”. This dataset simulates transactions from a digital wallet platform similar to popular services like PayTm in India or Khalti in Nepal. It contains 5000 synthetic records of various financial transactions across multiple categories, providing a rich source for analysis of digital payment behaviors and trends."
      ],
      "metadata": {
        "id": "PrT59tQTF3xJ"
      }
    },
    {
      "cell_type": "markdown",
      "source": [
        "####Load and Preprocess the Data"
      ],
      "metadata": {
        "id": "oBUx1hyWYU3V"
      }
    },
    {
      "cell_type": "code",
      "execution_count": 1,
      "metadata": {
        "colab": {
          "base_uri": "https://localhost:8080/",
          "height": 799
        },
        "id": "GQPPQJ4fXvuc",
        "outputId": "b9331332-24e1-4a1c-aa7f-d38bab8fc571"
      },
      "outputs": [
        {
          "output_type": "stream",
          "name": "stdout",
          "text": [
            "<class 'pandas.core.frame.DataFrame'>\n",
            "Index: 4755 entries, 0 to 4999\n",
            "Data columns (total 16 columns):\n",
            " #   Column              Non-Null Count  Dtype  \n",
            "---  ------              --------------  -----  \n",
            " 0   idx                 4755 non-null   int64  \n",
            " 1   transaction_id      4755 non-null   object \n",
            " 2   user_id             4755 non-null   object \n",
            " 3   transaction_date    4755 non-null   object \n",
            " 4   product_category    4755 non-null   object \n",
            " 5   product_name        4755 non-null   object \n",
            " 6   merchant_name       4755 non-null   object \n",
            " 7   product_amount      4755 non-null   float64\n",
            " 8   transaction_fee     4755 non-null   float64\n",
            " 9   cashback            4755 non-null   float64\n",
            " 10  loyalty_points      4755 non-null   int64  \n",
            " 11  payment_method      4755 non-null   object \n",
            " 12  transaction_status  4755 non-null   object \n",
            " 13  merchant_id         4755 non-null   object \n",
            " 14  device_type         4755 non-null   object \n",
            " 15  location            4755 non-null   object \n",
            "dtypes: float64(3), int64(2), object(11)\n",
            "memory usage: 631.5+ KB\n"
          ]
        },
        {
          "output_type": "execute_result",
          "data": {
            "text/plain": [
              "   idx                        transaction_id     user_id  transaction_date  \\\n",
              "0    1  4dac3ea3-6492-46ec-80b8-dc45c3ad0b14  USER_05159  2023-08-19 03:32   \n",
              "1    2  a903ed9f-eb84-47e7-b8aa-fd1786c919cf  USER_07204  2023-08-19 04:37   \n",
              "2    3  2a393013-733c-4add-9f09-bed1eeb33676  USER_00903  2023-08-19 05:52   \n",
              "3    4  9a07ad19-4673-4794-9cd2-9b139f39c715  USER_01769  2023-08-19 06:35   \n",
              "4    5  76418260-c985-4011-979d-0914604d0d68  USER_03544  2023-08-19 06:36   \n",
              "\n",
              "  product_category               product_name     merchant_name  \\\n",
              "0     Rent Payment          2BHK Flat Deposit            Airbnb   \n",
              "1         Gas Bill  Commercial Gas Connection         Adani Gas   \n",
              "2       Bus Ticket               Semi-Sleeper    MakeMyTrip Bus   \n",
              "3    Internet Bill          4G Unlimited Plan  Airtel Broadband   \n",
              "4   Loan Repayment              Home Loan EMI         Axis Bank   \n",
              "\n",
              "   product_amount  transaction_fee  cashback  loyalty_points payment_method  \\\n",
              "0         1525.39            36.69     19.19             186     Debit Card   \n",
              "1         1495.40            28.19     89.99             182            UPI   \n",
              "2         1267.71            11.36     95.70             994            UPI   \n",
              "3         9202.63             6.41     82.24             409     Debit Card   \n",
              "4         3100.58            41.15     40.47             837     Debit Card   \n",
              "\n",
              "  transaction_status merchant_id device_type location  \n",
              "0         Successful  MERCH_0083         iOS    Urban  \n",
              "1         Successful  MERCH_0163         iOS    Urban  \n",
              "2         Successful  MERCH_0320         iOS    Urban  \n",
              "3         Successful  MERCH_0194     Android    Urban  \n",
              "4         Successful  MERCH_0504     Android    Urban  "
            ],
            "text/html": [
              "\n",
              "  <div id=\"df-c6239ba3-3b63-434e-a190-0382e18a8ba2\" class=\"colab-df-container\">\n",
              "    <div>\n",
              "<style scoped>\n",
              "    .dataframe tbody tr th:only-of-type {\n",
              "        vertical-align: middle;\n",
              "    }\n",
              "\n",
              "    .dataframe tbody tr th {\n",
              "        vertical-align: top;\n",
              "    }\n",
              "\n",
              "    .dataframe thead th {\n",
              "        text-align: right;\n",
              "    }\n",
              "</style>\n",
              "<table border=\"1\" class=\"dataframe\">\n",
              "  <thead>\n",
              "    <tr style=\"text-align: right;\">\n",
              "      <th></th>\n",
              "      <th>idx</th>\n",
              "      <th>transaction_id</th>\n",
              "      <th>user_id</th>\n",
              "      <th>transaction_date</th>\n",
              "      <th>product_category</th>\n",
              "      <th>product_name</th>\n",
              "      <th>merchant_name</th>\n",
              "      <th>product_amount</th>\n",
              "      <th>transaction_fee</th>\n",
              "      <th>cashback</th>\n",
              "      <th>loyalty_points</th>\n",
              "      <th>payment_method</th>\n",
              "      <th>transaction_status</th>\n",
              "      <th>merchant_id</th>\n",
              "      <th>device_type</th>\n",
              "      <th>location</th>\n",
              "    </tr>\n",
              "  </thead>\n",
              "  <tbody>\n",
              "    <tr>\n",
              "      <th>0</th>\n",
              "      <td>1</td>\n",
              "      <td>4dac3ea3-6492-46ec-80b8-dc45c3ad0b14</td>\n",
              "      <td>USER_05159</td>\n",
              "      <td>2023-08-19 03:32</td>\n",
              "      <td>Rent Payment</td>\n",
              "      <td>2BHK Flat Deposit</td>\n",
              "      <td>Airbnb</td>\n",
              "      <td>1525.39</td>\n",
              "      <td>36.69</td>\n",
              "      <td>19.19</td>\n",
              "      <td>186</td>\n",
              "      <td>Debit Card</td>\n",
              "      <td>Successful</td>\n",
              "      <td>MERCH_0083</td>\n",
              "      <td>iOS</td>\n",
              "      <td>Urban</td>\n",
              "    </tr>\n",
              "    <tr>\n",
              "      <th>1</th>\n",
              "      <td>2</td>\n",
              "      <td>a903ed9f-eb84-47e7-b8aa-fd1786c919cf</td>\n",
              "      <td>USER_07204</td>\n",
              "      <td>2023-08-19 04:37</td>\n",
              "      <td>Gas Bill</td>\n",
              "      <td>Commercial Gas Connection</td>\n",
              "      <td>Adani Gas</td>\n",
              "      <td>1495.40</td>\n",
              "      <td>28.19</td>\n",
              "      <td>89.99</td>\n",
              "      <td>182</td>\n",
              "      <td>UPI</td>\n",
              "      <td>Successful</td>\n",
              "      <td>MERCH_0163</td>\n",
              "      <td>iOS</td>\n",
              "      <td>Urban</td>\n",
              "    </tr>\n",
              "    <tr>\n",
              "      <th>2</th>\n",
              "      <td>3</td>\n",
              "      <td>2a393013-733c-4add-9f09-bed1eeb33676</td>\n",
              "      <td>USER_00903</td>\n",
              "      <td>2023-08-19 05:52</td>\n",
              "      <td>Bus Ticket</td>\n",
              "      <td>Semi-Sleeper</td>\n",
              "      <td>MakeMyTrip Bus</td>\n",
              "      <td>1267.71</td>\n",
              "      <td>11.36</td>\n",
              "      <td>95.70</td>\n",
              "      <td>994</td>\n",
              "      <td>UPI</td>\n",
              "      <td>Successful</td>\n",
              "      <td>MERCH_0320</td>\n",
              "      <td>iOS</td>\n",
              "      <td>Urban</td>\n",
              "    </tr>\n",
              "    <tr>\n",
              "      <th>3</th>\n",
              "      <td>4</td>\n",
              "      <td>9a07ad19-4673-4794-9cd2-9b139f39c715</td>\n",
              "      <td>USER_01769</td>\n",
              "      <td>2023-08-19 06:35</td>\n",
              "      <td>Internet Bill</td>\n",
              "      <td>4G Unlimited Plan</td>\n",
              "      <td>Airtel Broadband</td>\n",
              "      <td>9202.63</td>\n",
              "      <td>6.41</td>\n",
              "      <td>82.24</td>\n",
              "      <td>409</td>\n",
              "      <td>Debit Card</td>\n",
              "      <td>Successful</td>\n",
              "      <td>MERCH_0194</td>\n",
              "      <td>Android</td>\n",
              "      <td>Urban</td>\n",
              "    </tr>\n",
              "    <tr>\n",
              "      <th>4</th>\n",
              "      <td>5</td>\n",
              "      <td>76418260-c985-4011-979d-0914604d0d68</td>\n",
              "      <td>USER_03544</td>\n",
              "      <td>2023-08-19 06:36</td>\n",
              "      <td>Loan Repayment</td>\n",
              "      <td>Home Loan EMI</td>\n",
              "      <td>Axis Bank</td>\n",
              "      <td>3100.58</td>\n",
              "      <td>41.15</td>\n",
              "      <td>40.47</td>\n",
              "      <td>837</td>\n",
              "      <td>Debit Card</td>\n",
              "      <td>Successful</td>\n",
              "      <td>MERCH_0504</td>\n",
              "      <td>Android</td>\n",
              "      <td>Urban</td>\n",
              "    </tr>\n",
              "  </tbody>\n",
              "</table>\n",
              "</div>\n",
              "    <div class=\"colab-df-buttons\">\n",
              "\n",
              "  <div class=\"colab-df-container\">\n",
              "    <button class=\"colab-df-convert\" onclick=\"convertToInteractive('df-c6239ba3-3b63-434e-a190-0382e18a8ba2')\"\n",
              "            title=\"Convert this dataframe to an interactive table.\"\n",
              "            style=\"display:none;\">\n",
              "\n",
              "  <svg xmlns=\"http://www.w3.org/2000/svg\" height=\"24px\" viewBox=\"0 -960 960 960\">\n",
              "    <path d=\"M120-120v-720h720v720H120Zm60-500h600v-160H180v160Zm220 220h160v-160H400v160Zm0 220h160v-160H400v160ZM180-400h160v-160H180v160Zm440 0h160v-160H620v160ZM180-180h160v-160H180v160Zm440 0h160v-160H620v160Z\"/>\n",
              "  </svg>\n",
              "    </button>\n",
              "\n",
              "  <style>\n",
              "    .colab-df-container {\n",
              "      display:flex;\n",
              "      gap: 12px;\n",
              "    }\n",
              "\n",
              "    .colab-df-convert {\n",
              "      background-color: #E8F0FE;\n",
              "      border: none;\n",
              "      border-radius: 50%;\n",
              "      cursor: pointer;\n",
              "      display: none;\n",
              "      fill: #1967D2;\n",
              "      height: 32px;\n",
              "      padding: 0 0 0 0;\n",
              "      width: 32px;\n",
              "    }\n",
              "\n",
              "    .colab-df-convert:hover {\n",
              "      background-color: #E2EBFA;\n",
              "      box-shadow: 0px 1px 2px rgba(60, 64, 67, 0.3), 0px 1px 3px 1px rgba(60, 64, 67, 0.15);\n",
              "      fill: #174EA6;\n",
              "    }\n",
              "\n",
              "    .colab-df-buttons div {\n",
              "      margin-bottom: 4px;\n",
              "    }\n",
              "\n",
              "    [theme=dark] .colab-df-convert {\n",
              "      background-color: #3B4455;\n",
              "      fill: #D2E3FC;\n",
              "    }\n",
              "\n",
              "    [theme=dark] .colab-df-convert:hover {\n",
              "      background-color: #434B5C;\n",
              "      box-shadow: 0px 1px 3px 1px rgba(0, 0, 0, 0.15);\n",
              "      filter: drop-shadow(0px 1px 2px rgba(0, 0, 0, 0.3));\n",
              "      fill: #FFFFFF;\n",
              "    }\n",
              "  </style>\n",
              "\n",
              "    <script>\n",
              "      const buttonEl =\n",
              "        document.querySelector('#df-c6239ba3-3b63-434e-a190-0382e18a8ba2 button.colab-df-convert');\n",
              "      buttonEl.style.display =\n",
              "        google.colab.kernel.accessAllowed ? 'block' : 'none';\n",
              "\n",
              "      async function convertToInteractive(key) {\n",
              "        const element = document.querySelector('#df-c6239ba3-3b63-434e-a190-0382e18a8ba2');\n",
              "        const dataTable =\n",
              "          await google.colab.kernel.invokeFunction('convertToInteractive',\n",
              "                                                    [key], {});\n",
              "        if (!dataTable) return;\n",
              "\n",
              "        const docLinkHtml = 'Like what you see? Visit the ' +\n",
              "          '<a target=\"_blank\" href=https://colab.research.google.com/notebooks/data_table.ipynb>data table notebook</a>'\n",
              "          + ' to learn more about interactive tables.';\n",
              "        element.innerHTML = '';\n",
              "        dataTable['output_type'] = 'display_data';\n",
              "        await google.colab.output.renderOutput(dataTable, element);\n",
              "        const docLink = document.createElement('div');\n",
              "        docLink.innerHTML = docLinkHtml;\n",
              "        element.appendChild(docLink);\n",
              "      }\n",
              "    </script>\n",
              "  </div>\n",
              "\n",
              "\n",
              "    <div id=\"df-c29b2191-d8d9-4eb3-a887-e67a72c5e328\">\n",
              "      <button class=\"colab-df-quickchart\" onclick=\"quickchart('df-c29b2191-d8d9-4eb3-a887-e67a72c5e328')\"\n",
              "                title=\"Suggest charts\"\n",
              "                style=\"display:none;\">\n",
              "\n",
              "<svg xmlns=\"http://www.w3.org/2000/svg\" height=\"24px\"viewBox=\"0 0 24 24\"\n",
              "     width=\"24px\">\n",
              "    <g>\n",
              "        <path d=\"M19 3H5c-1.1 0-2 .9-2 2v14c0 1.1.9 2 2 2h14c1.1 0 2-.9 2-2V5c0-1.1-.9-2-2-2zM9 17H7v-7h2v7zm4 0h-2V7h2v10zm4 0h-2v-4h2v4z\"/>\n",
              "    </g>\n",
              "</svg>\n",
              "      </button>\n",
              "\n",
              "<style>\n",
              "  .colab-df-quickchart {\n",
              "      --bg-color: #E8F0FE;\n",
              "      --fill-color: #1967D2;\n",
              "      --hover-bg-color: #E2EBFA;\n",
              "      --hover-fill-color: #174EA6;\n",
              "      --disabled-fill-color: #AAA;\n",
              "      --disabled-bg-color: #DDD;\n",
              "  }\n",
              "\n",
              "  [theme=dark] .colab-df-quickchart {\n",
              "      --bg-color: #3B4455;\n",
              "      --fill-color: #D2E3FC;\n",
              "      --hover-bg-color: #434B5C;\n",
              "      --hover-fill-color: #FFFFFF;\n",
              "      --disabled-bg-color: #3B4455;\n",
              "      --disabled-fill-color: #666;\n",
              "  }\n",
              "\n",
              "  .colab-df-quickchart {\n",
              "    background-color: var(--bg-color);\n",
              "    border: none;\n",
              "    border-radius: 50%;\n",
              "    cursor: pointer;\n",
              "    display: none;\n",
              "    fill: var(--fill-color);\n",
              "    height: 32px;\n",
              "    padding: 0;\n",
              "    width: 32px;\n",
              "  }\n",
              "\n",
              "  .colab-df-quickchart:hover {\n",
              "    background-color: var(--hover-bg-color);\n",
              "    box-shadow: 0 1px 2px rgba(60, 64, 67, 0.3), 0 1px 3px 1px rgba(60, 64, 67, 0.15);\n",
              "    fill: var(--button-hover-fill-color);\n",
              "  }\n",
              "\n",
              "  .colab-df-quickchart-complete:disabled,\n",
              "  .colab-df-quickchart-complete:disabled:hover {\n",
              "    background-color: var(--disabled-bg-color);\n",
              "    fill: var(--disabled-fill-color);\n",
              "    box-shadow: none;\n",
              "  }\n",
              "\n",
              "  .colab-df-spinner {\n",
              "    border: 2px solid var(--fill-color);\n",
              "    border-color: transparent;\n",
              "    border-bottom-color: var(--fill-color);\n",
              "    animation:\n",
              "      spin 1s steps(1) infinite;\n",
              "  }\n",
              "\n",
              "  @keyframes spin {\n",
              "    0% {\n",
              "      border-color: transparent;\n",
              "      border-bottom-color: var(--fill-color);\n",
              "      border-left-color: var(--fill-color);\n",
              "    }\n",
              "    20% {\n",
              "      border-color: transparent;\n",
              "      border-left-color: var(--fill-color);\n",
              "      border-top-color: var(--fill-color);\n",
              "    }\n",
              "    30% {\n",
              "      border-color: transparent;\n",
              "      border-left-color: var(--fill-color);\n",
              "      border-top-color: var(--fill-color);\n",
              "      border-right-color: var(--fill-color);\n",
              "    }\n",
              "    40% {\n",
              "      border-color: transparent;\n",
              "      border-right-color: var(--fill-color);\n",
              "      border-top-color: var(--fill-color);\n",
              "    }\n",
              "    60% {\n",
              "      border-color: transparent;\n",
              "      border-right-color: var(--fill-color);\n",
              "    }\n",
              "    80% {\n",
              "      border-color: transparent;\n",
              "      border-right-color: var(--fill-color);\n",
              "      border-bottom-color: var(--fill-color);\n",
              "    }\n",
              "    90% {\n",
              "      border-color: transparent;\n",
              "      border-bottom-color: var(--fill-color);\n",
              "    }\n",
              "  }\n",
              "</style>\n",
              "\n",
              "      <script>\n",
              "        async function quickchart(key) {\n",
              "          const quickchartButtonEl =\n",
              "            document.querySelector('#' + key + ' button');\n",
              "          quickchartButtonEl.disabled = true;  // To prevent multiple clicks.\n",
              "          quickchartButtonEl.classList.add('colab-df-spinner');\n",
              "          try {\n",
              "            const charts = await google.colab.kernel.invokeFunction(\n",
              "                'suggestCharts', [key], {});\n",
              "          } catch (error) {\n",
              "            console.error('Error during call to suggestCharts:', error);\n",
              "          }\n",
              "          quickchartButtonEl.classList.remove('colab-df-spinner');\n",
              "          quickchartButtonEl.classList.add('colab-df-quickchart-complete');\n",
              "        }\n",
              "        (() => {\n",
              "          let quickchartButtonEl =\n",
              "            document.querySelector('#df-c29b2191-d8d9-4eb3-a887-e67a72c5e328 button');\n",
              "          quickchartButtonEl.style.display =\n",
              "            google.colab.kernel.accessAllowed ? 'block' : 'none';\n",
              "        })();\n",
              "      </script>\n",
              "    </div>\n",
              "\n",
              "    </div>\n",
              "  </div>\n"
            ],
            "application/vnd.google.colaboratory.intrinsic+json": {
              "type": "dataframe",
              "variable_name": "df",
              "summary": "{\n  \"name\": \"df\",\n  \"rows\": 4755,\n  \"fields\": [\n    {\n      \"column\": \"idx\",\n      \"properties\": {\n        \"dtype\": \"number\",\n        \"std\": 1445,\n        \"min\": 1,\n        \"max\": 5000,\n        \"num_unique_values\": 4755,\n        \"samples\": [\n          771,\n          2739,\n          2063\n        ],\n        \"semantic_type\": \"\",\n        \"description\": \"\"\n      }\n    },\n    {\n      \"column\": \"transaction_id\",\n      \"properties\": {\n        \"dtype\": \"string\",\n        \"num_unique_values\": 4755,\n        \"samples\": [\n          \"181cb635-0da2-4bdb-b17d-953c8f53c440\",\n          \"1c8a9ff8-eee5-4a0e-9af6-34a430a227e5\",\n          \"52bed233-5f41-4786-ae77-f3ab4167ad09\"\n        ],\n        \"semantic_type\": \"\",\n        \"description\": \"\"\n      }\n    },\n    {\n      \"column\": \"user_id\",\n      \"properties\": {\n        \"dtype\": \"string\",\n        \"num_unique_values\": 3783,\n        \"samples\": [\n          \"USER_05137\",\n          \"USER_01953\",\n          \"USER_06111\"\n        ],\n        \"semantic_type\": \"\",\n        \"description\": \"\"\n      }\n    },\n    {\n      \"column\": \"transaction_date\",\n      \"properties\": {\n        \"dtype\": \"object\",\n        \"num_unique_values\": 4733,\n        \"samples\": [\n          \"2024-02-15 12:57\",\n          \"2023-09-16 10:21\",\n          \"2023-12-05 21:37\"\n        ],\n        \"semantic_type\": \"\",\n        \"description\": \"\"\n      }\n    },\n    {\n      \"column\": \"product_category\",\n      \"properties\": {\n        \"dtype\": \"category\",\n        \"num_unique_values\": 20,\n        \"samples\": [\n          \"Rent Payment\",\n          \"Food Delivery\",\n          \"Water Bill\"\n        ],\n        \"semantic_type\": \"\",\n        \"description\": \"\"\n      }\n    },\n    {\n      \"column\": \"product_name\",\n      \"properties\": {\n        \"dtype\": \"category\",\n        \"num_unique_values\": 100,\n        \"samples\": [\n          \"Dormitory Bed\",\n          \"MBA Entrance Prep\",\n          \"Pune to Goa\"\n        ],\n        \"semantic_type\": \"\",\n        \"description\": \"\"\n      }\n    },\n    {\n      \"column\": \"merchant_name\",\n      \"properties\": {\n        \"dtype\": \"category\",\n        \"num_unique_values\": 97,\n        \"samples\": [\n          \"Jio\",\n          \"Idea\",\n          \"SonyLIV\"\n        ],\n        \"semantic_type\": \"\",\n        \"description\": \"\"\n      }\n    },\n    {\n      \"column\": \"product_amount\",\n      \"properties\": {\n        \"dtype\": \"number\",\n        \"std\": 2880.868655642678,\n        \"min\": 10.09,\n        \"max\": 9996.95,\n        \"num_unique_values\": 4746,\n        \"samples\": [\n          5871.42,\n          1698.98,\n          3497.7\n        ],\n        \"semantic_type\": \"\",\n        \"description\": \"\"\n      }\n    },\n    {\n      \"column\": \"transaction_fee\",\n      \"properties\": {\n        \"dtype\": \"number\",\n        \"std\": 14.52670049366965,\n        \"min\": 0.01,\n        \"max\": 49.99,\n        \"num_unique_values\": 3080,\n        \"samples\": [\n          22.93,\n          15.78,\n          37.47\n        ],\n        \"semantic_type\": \"\",\n        \"description\": \"\"\n      }\n    },\n    {\n      \"column\": \"cashback\",\n      \"properties\": {\n        \"dtype\": \"number\",\n        \"std\": 28.526156790873603,\n        \"min\": 0.0,\n        \"max\": 100.0,\n        \"num_unique_values\": 3808,\n        \"samples\": [\n          33.12,\n          92.81,\n          0.51\n        ],\n        \"semantic_type\": \"\",\n        \"description\": \"\"\n      }\n    },\n    {\n      \"column\": \"loyalty_points\",\n      \"properties\": {\n        \"dtype\": \"number\",\n        \"std\": 289,\n        \"min\": 0,\n        \"max\": 999,\n        \"num_unique_values\": 994,\n        \"samples\": [\n          375,\n          381,\n          96\n        ],\n        \"semantic_type\": \"\",\n        \"description\": \"\"\n      }\n    },\n    {\n      \"column\": \"payment_method\",\n      \"properties\": {\n        \"dtype\": \"category\",\n        \"num_unique_values\": 5,\n        \"samples\": [\n          \"UPI\",\n          \"Bank Transfer\",\n          \"Wallet Balance\"\n        ],\n        \"semantic_type\": \"\",\n        \"description\": \"\"\n      }\n    },\n    {\n      \"column\": \"transaction_status\",\n      \"properties\": {\n        \"dtype\": \"category\",\n        \"num_unique_values\": 1,\n        \"samples\": [\n          \"Successful\"\n        ],\n        \"semantic_type\": \"\",\n        \"description\": \"\"\n      }\n    },\n    {\n      \"column\": \"merchant_id\",\n      \"properties\": {\n        \"dtype\": \"category\",\n        \"num_unique_values\": 987,\n        \"samples\": [\n          \"MERCH_0085\"\n        ],\n        \"semantic_type\": \"\",\n        \"description\": \"\"\n      }\n    },\n    {\n      \"column\": \"device_type\",\n      \"properties\": {\n        \"dtype\": \"category\",\n        \"num_unique_values\": 3,\n        \"samples\": [\n          \"iOS\"\n        ],\n        \"semantic_type\": \"\",\n        \"description\": \"\"\n      }\n    },\n    {\n      \"column\": \"location\",\n      \"properties\": {\n        \"dtype\": \"category\",\n        \"num_unique_values\": 3,\n        \"samples\": [\n          \"Urban\"\n        ],\n        \"semantic_type\": \"\",\n        \"description\": \"\"\n      }\n    }\n  ]\n}"
            }
          },
          "metadata": {},
          "execution_count": 1
        }
      ],
      "source": [
        "import pandas as pd\n",
        "import numpy as np\n",
        "\n",
        "# load dataset\n",
        "df = pd.read_csv(\"digital_wallet_transactions.csv\")\n",
        "\n",
        "# mengambil data dengan status transaksi sukses\n",
        "df = df[df['transaction_status'] == \"Successful\"]\n",
        "df.info()\n",
        "df.head()"
      ]
    },
    {
      "cell_type": "code",
      "source": [
        "# Total sales (sum of product_amount)\n",
        "total_sales = df['product_amount'].sum()\n",
        "\n",
        "# Total transactions (number of successful transactions)\n",
        "total_transactions = df.shape[0]\n",
        "\n",
        "# Total unique customers\n",
        "total_customers = df['user_id'].nunique()\n",
        "\n",
        "# Total unique products sold\n",
        "total_unique_products = df['product_name'].nunique()\n",
        "\n",
        "print(\"Total Sales: \", total_sales)\n",
        "print(\"Total Transactions: \", total_transactions)\n",
        "print(\"Total Customers: \", total_customers)\n",
        "print(\"Total Unique Products Sold: \", total_unique_products)"
      ],
      "metadata": {
        "colab": {
          "base_uri": "https://localhost:8080/"
        },
        "id": "S9zwM2wZzJrB",
        "outputId": "8426bcd7-bd2a-4be6-da3c-140f896fd90b"
      },
      "execution_count": 2,
      "outputs": [
        {
          "output_type": "stream",
          "name": "stdout",
          "text": [
            "Total Sales:  23559018.92\n",
            "Total Transactions:  4755\n",
            "Total Customers:  3783\n",
            "Total Unique Products Sold:  100\n"
          ]
        }
      ]
    },
    {
      "cell_type": "code",
      "source": [
        "# Convert transaction_date to datetime\n",
        "df['transaction_date'] = pd.to_datetime(df['transaction_date'])\n",
        "\n",
        "# Find earliest and latest transaction date\n",
        "min_date = df['transaction_date'].min()\n",
        "max_date = df['transaction_date'].max()\n",
        "\n",
        "print(\"Earliest Transaction Date:\", min_date)\n",
        "print(\"Latest Transaction Date:\", max_date)"
      ],
      "metadata": {
        "colab": {
          "base_uri": "https://localhost:8080/"
        },
        "id": "MGHL07IF07_b",
        "outputId": "b27bc566-ea88-457c-82aa-8a55a777ccb7"
      },
      "execution_count": 3,
      "outputs": [
        {
          "output_type": "stream",
          "name": "stdout",
          "text": [
            "Earliest Transaction Date: 2023-08-19 03:32:00\n",
            "Latest Transaction Date: 2024-08-18 01:15:00\n"
          ]
        }
      ]
    },
    {
      "cell_type": "code",
      "source": [
        "import pandas as pd\n",
        "import matplotlib.pyplot as plt\n",
        "\n",
        "# Make sure transaction_date is datetime\n",
        "df['transaction_date'] = pd.to_datetime(df['transaction_date'])\n",
        "\n",
        "# Create Year-Month column\n",
        "df['YearMonth'] = df['transaction_date'].dt.to_period('M')\n",
        "\n",
        "# Filter Sept 2023 – July 2024\n",
        "mask = (df['YearMonth'] >= '2023-09') & (df['YearMonth'] <= '2024-07')\n",
        "df_filtered = df[mask]\n",
        "\n",
        "# Monthly sales\n",
        "monthly_sales = df_filtered.groupby('YearMonth')['product_amount'].sum()\n",
        "\n",
        "# Monthly unique customers\n",
        "monthly_customers = df_filtered.groupby('YearMonth')['user_id'].nunique()\n",
        "\n",
        "# Plot\n",
        "fig, axes = plt.subplots(2, 1, figsize=(15, 9), sharex=True)\n",
        "\n",
        "# Total Sales\n",
        "axes[0].plot(monthly_sales.index.astype(str), monthly_sales.values, marker='o', color='gray')\n",
        "axes[0].set_title(\"Total Sales (Sept 2023 – July 2024)\")\n",
        "axes[0].set_ylabel(\"Sales\")\n",
        "axes[0].text(0, monthly_sales.values[0], f\"{monthly_sales.values[0]:,}\", ha='center', va='bottom')\n",
        "axes[0].text(len(monthly_sales)-1, monthly_sales.values[-1], f\"{monthly_sales.values[-1]:,}\", ha='center', va='bottom')\n",
        "\n",
        "# Total Customers\n",
        "axes[1].plot(monthly_customers.index.astype(str), monthly_customers.values, marker='o', color='gray')\n",
        "axes[1].set_title(\"Total Customers (Sept 2023 – July 2024)\")\n",
        "axes[1].set_ylabel(\"Customers\")\n",
        "axes[1].set_xlabel(\"Month\")\n",
        "axes[1].text(0, monthly_customers.values[0], f\"{monthly_customers.values[0]:,}\", ha='center', va='bottom')\n",
        "axes[1].text(len(monthly_customers)-1, monthly_customers.values[-1], f\"{monthly_customers.values[-1]:,}\", ha='center', va='bottom')\n",
        "\n",
        "plt.xticks(rotation=45)\n",
        "plt.tight_layout()\n",
        "plt.show()\n"
      ],
      "metadata": {
        "colab": {
          "base_uri": "https://localhost:8080/",
          "height": 906
        },
        "id": "LuOGrzlJ6lBR",
        "outputId": "b9e196cb-1a8a-4c44-f8e7-d522452d0097"
      },
      "execution_count": 4,
      "outputs": [
        {
          "output_type": "display_data",
          "data": {
            "text/plain": [
              "<Figure size 1500x900 with 2 Axes>"
            ],
            "image/png": "[encoded data removed]"
          },
          "metadata": {}
        }
      ]
    },
    {
      "cell_type": "markdown",
      "source": [
        "**Interpretations:**\n",
        "\n",
        "The filtering process successfully reduced the dataset to include only completed transactions. This ensures that subsequent analysis—such as evaluating spending behavior, merchant performance, or cashback distribution—focuses exclusively on valid and finalized payments. The reduction from 5,000 to 4,755 entries highlights that a small portion of transactions did not succeed."
      ],
      "metadata": {
        "id": "k1ok3EHTJAbU"
      }
    },
    {
      "cell_type": "markdown",
      "source": [
        "###**Collaborative Filtering: Matrix Factorization With SVD**\n"
      ],
      "metadata": {
        "id": "VwjI0OabHhOB"
      }
    },
    {
      "cell_type": "markdown",
      "source": [
        "By leveraging transaction histories, the system applies **collaborative filtering** with **matrix factorization (SVD)** to uncover hidden patterns in user–merchant interactions. The goal is to predict user preferences and recommend new merchants that align with individual spending behavior, ultimately enhancing customer engagement and improving the overall digital wallet experience."
      ],
      "metadata": {
        "id": "FZMs7LYxNzFK"
      }
    },
    {
      "cell_type": "code",
      "source": [
        "# user vs merchant interaction\n",
        "user_item_matrix = df.groupby(['user_id', 'merchant_name'])['product_amount'].sum().reset_index()\n",
        "\n",
        "# Normalization into a Rating Scale\n",
        "user_item_matrix['rating'] = (user_item_matrix['product_amount'] - user_item_matrix['product_amount'].min()) / \\\n",
        "                             (user_item_matrix['product_amount'].max() - user_item_matrix['product_amount'].min())\n",
        "\n",
        "user_item_matrix.head()"
      ],
      "metadata": {
        "colab": {
          "base_uri": "https://localhost:8080/",
          "height": 206
        },
        "id": "2xQ6DjGmZodD",
        "outputId": "5ee2ed25-db14-4bb7-e8a0-5f688d325486"
      },
      "execution_count": 18,
      "outputs": [
        {
          "output_type": "execute_result",
          "data": {
            "text/plain": [
              "      user_id     merchant_name  product_amount    rating\n",
              "0  USER_00001     Amazon Pantry         5810.65  0.337130\n",
              "1  USER_00002            Amazon         1785.23  0.103171\n",
              "2  USER_00019              BSNL         3883.54  0.225126\n",
              "3  USER_00019          Domino's         1535.44  0.088654\n",
              "4  USER_00020  Carnival Cinemas         3619.00  0.209750"
            ],
            "text/html": [
              "\n",
              "  <div id=\"df-b83588c0-d842-4a29-bcff-faeb50458021\" class=\"colab-df-container\">\n",
              "    <div>\n",
              "<style scoped>\n",
              "    .dataframe tbody tr th:only-of-type {\n",
              "        vertical-align: middle;\n",
              "    }\n",
              "\n",
              "    .dataframe tbody tr th {\n",
              "        vertical-align: top;\n",
              "    }\n",
              "\n",
              "    .dataframe thead th {\n",
              "        text-align: right;\n",
              "    }\n",
              "</style>\n",
              "<table border=\"1\" class=\"dataframe\">\n",
              "  <thead>\n",
              "    <tr style=\"text-align: right;\">\n",
              "      <th></th>\n",
              "      <th>user_id</th>\n",
              "      <th>merchant_name</th>\n",
              "      <th>product_amount</th>\n",
              "      <th>rating</th>\n",
              "    </tr>\n",
              "  </thead>\n",
              "  <tbody>\n",
              "    <tr>\n",
              "      <th>0</th>\n",
              "      <td>USER_00001</td>\n",
              "      <td>Amazon Pantry</td>\n",
              "      <td>5810.65</td>\n",
              "      <td>0.337130</td>\n",
              "    </tr>\n",
              "    <tr>\n",
              "      <th>1</th>\n",
              "      <td>USER_00002</td>\n",
              "      <td>Amazon</td>\n",
              "      <td>1785.23</td>\n",
              "      <td>0.103171</td>\n",
              "    </tr>\n",
              "    <tr>\n",
              "      <th>2</th>\n",
              "      <td>USER_00019</td>\n",
              "      <td>BSNL</td>\n",
              "      <td>3883.54</td>\n",
              "      <td>0.225126</td>\n",
              "    </tr>\n",
              "    <tr>\n",
              "      <th>3</th>\n",
              "      <td>USER_00019</td>\n",
              "      <td>Domino's</td>\n",
              "      <td>1535.44</td>\n",
              "      <td>0.088654</td>\n",
              "    </tr>\n",
              "    <tr>\n",
              "      <th>4</th>\n",
              "      <td>USER_00020</td>\n",
              "      <td>Carnival Cinemas</td>\n",
              "      <td>3619.00</td>\n",
              "      <td>0.209750</td>\n",
              "    </tr>\n",
              "  </tbody>\n",
              "</table>\n",
              "</div>\n",
              "    <div class=\"colab-df-buttons\">\n",
              "\n",
              "  <div class=\"colab-df-container\">\n",
              "    <button class=\"colab-df-convert\" onclick=\"convertToInteractive('df-b83588c0-d842-4a29-bcff-faeb50458021')\"\n",
              "            title=\"Convert this dataframe to an interactive table.\"\n",
              "            style=\"display:none;\">\n",
              "\n",
              "  <svg xmlns=\"http://www.w3.org/2000/svg\" height=\"24px\" viewBox=\"0 -960 960 960\">\n",
              "    <path d=\"M120-120v-720h720v720H120Zm60-500h600v-160H180v160Zm220 220h160v-160H400v160Zm0 220h160v-160H400v160ZM180-400h160v-160H180v160Zm440 0h160v-160H620v160ZM180-180h160v-160H180v160Zm440 0h160v-160H620v160Z\"/>\n",
              "  </svg>\n",
              "    </button>\n",
              "\n",
              "  <style>\n",
              "    .colab-df-container {\n",
              "      display:flex;\n",
              "      gap: 12px;\n",
              "    }\n",
              "\n",
              "    .colab-df-convert {\n",
              "      background-color: #E8F0FE;\n",
              "      border: none;\n",
              "      border-radius: 50%;\n",
              "      cursor: pointer;\n",
              "      display: none;\n",
              "      fill: #1967D2;\n",
              "      height: 32px;\n",
              "      padding: 0 0 0 0;\n",
              "      width: 32px;\n",
              "    }\n",
              "\n",
              "    .colab-df-convert:hover {\n",
              "      background-color: #E2EBFA;\n",
              "      box-shadow: 0px 1px 2px rgba(60, 64, 67, 0.3), 0px 1px 3px 1px rgba(60, 64, 67, 0.15);\n",
              "      fill: #174EA6;\n",
              "    }\n",
              "\n",
              "    .colab-df-buttons div {\n",
              "      margin-bottom: 4px;\n",
              "    }\n",
              "\n",
              "    [theme=dark] .colab-df-convert {\n",
              "      background-color: #3B4455;\n",
              "      fill: #D2E3FC;\n",
              "    }\n",
              "\n",
              "    [theme=dark] .colab-df-convert:hover {\n",
              "      background-color: #434B5C;\n",
              "      box-shadow: 0px 1px 3px 1px rgba(0, 0, 0, 0.15);\n",
              "      filter: drop-shadow(0px 1px 2px rgba(0, 0, 0, 0.3));\n",
              "      fill: #FFFFFF;\n",
              "    }\n",
              "  </style>\n",
              "\n",
              "    <script>\n",
              "      const buttonEl =\n",
              "        document.querySelector('#df-b83588c0-d842-4a29-bcff-faeb50458021 button.colab-df-convert');\n",
              "      buttonEl.style.display =\n",
              "        google.colab.kernel.accessAllowed ? 'block' : 'none';\n",
              "\n",
              "      async function convertToInteractive(key) {\n",
              "        const element = document.querySelector('#df-b83588c0-d842-4a29-bcff-faeb50458021');\n",
              "        const dataTable =\n",
              "          await google.colab.kernel.invokeFunction('convertToInteractive',\n",
              "                                                    [key], {});\n",
              "        if (!dataTable) return;\n",
              "\n",
              "        const docLinkHtml = 'Like what you see? Visit the ' +\n",
              "          '<a target=\"_blank\" href=https://colab.research.google.com/notebooks/data_table.ipynb>data table notebook</a>'\n",
              "          + ' to learn more about interactive tables.';\n",
              "        element.innerHTML = '';\n",
              "        dataTable['output_type'] = 'display_data';\n",
              "        await google.colab.output.renderOutput(dataTable, element);\n",
              "        const docLink = document.createElement('div');\n",
              "        docLink.innerHTML = docLinkHtml;\n",
              "        element.appendChild(docLink);\n",
              "      }\n",
              "    </script>\n",
              "  </div>\n",
              "\n",
              "\n",
              "    <div id=\"df-734e1238-ca6b-4ea1-bfa8-68bc8bd971c1\">\n",
              "      <button class=\"colab-df-quickchart\" onclick=\"quickchart('df-734e1238-ca6b-4ea1-bfa8-68bc8bd971c1')\"\n",
              "                title=\"Suggest charts\"\n",
              "                style=\"display:none;\">\n",
              "\n",
              "<svg xmlns=\"http://www.w3.org/2000/svg\" height=\"24px\"viewBox=\"0 0 24 24\"\n",
              "     width=\"24px\">\n",
              "    <g>\n",
              "        <path d=\"M19 3H5c-1.1 0-2 .9-2 2v14c0 1.1.9 2 2 2h14c1.1 0 2-.9 2-2V5c0-1.1-.9-2-2-2zM9 17H7v-7h2v7zm4 0h-2V7h2v10zm4 0h-2v-4h2v4z\"/>\n",
              "    </g>\n",
              "</svg>\n",
              "      </button>\n",
              "\n",
              "<style>\n",
              "  .colab-df-quickchart {\n",
              "      --bg-color: #E8F0FE;\n",
              "      --fill-color: #1967D2;\n",
              "      --hover-bg-color: #E2EBFA;\n",
              "      --hover-fill-color: #174EA6;\n",
              "      --disabled-fill-color: #AAA;\n",
              "      --disabled-bg-color: #DDD;\n",
              "  }\n",
              "\n",
              "  [theme=dark] .colab-df-quickchart {\n",
              "      --bg-color: #3B4455;\n",
              "      --fill-color: #D2E3FC;\n",
              "      --hover-bg-color: #434B5C;\n",
              "      --hover-fill-color: #FFFFFF;\n",
              "      --disabled-bg-color: #3B4455;\n",
              "      --disabled-fill-color: #666;\n",
              "  }\n",
              "\n",
              "  .colab-df-quickchart {\n",
              "    background-color: var(--bg-color);\n",
              "    border: none;\n",
              "    border-radius: 50%;\n",
              "    cursor: pointer;\n",
              "    display: none;\n",
              "    fill: var(--fill-color);\n",
              "    height: 32px;\n",
              "    padding: 0;\n",
              "    width: 32px;\n",
              "  }\n",
              "\n",
              "  .colab-df-quickchart:hover {\n",
              "    background-color: var(--hover-bg-color);\n",
              "    box-shadow: 0 1px 2px rgba(60, 64, 67, 0.3), 0 1px 3px 1px rgba(60, 64, 67, 0.15);\n",
              "    fill: var(--button-hover-fill-color);\n",
              "  }\n",
              "\n",
              "  .colab-df-quickchart-complete:disabled,\n",
              "  .colab-df-quickchart-complete:disabled:hover {\n",
              "    background-color: var(--disabled-bg-color);\n",
              "    fill: var(--disabled-fill-color);\n",
              "    box-shadow: none;\n",
              "  }\n",
              "\n",
              "  .colab-df-spinner {\n",
              "    border: 2px solid var(--fill-color);\n",
              "    border-color: transparent;\n",
              "    border-bottom-color: var(--fill-color);\n",
              "    animation:\n",
              "      spin 1s steps(1) infinite;\n",
              "  }\n",
              "\n",
              "  @keyframes spin {\n",
              "    0% {\n",
              "      border-color: transparent;\n",
              "      border-bottom-color: var(--fill-color);\n",
              "      border-left-color: var(--fill-color);\n",
              "    }\n",
              "    20% {\n",
              "      border-color: transparent;\n",
              "      border-left-color: var(--fill-color);\n",
              "      border-top-color: var(--fill-color);\n",
              "    }\n",
              "    30% {\n",
              "      border-color: transparent;\n",
              "      border-left-color: var(--fill-color);\n",
              "      border-top-color: var(--fill-color);\n",
              "      border-right-color: var(--fill-color);\n",
              "    }\n",
              "    40% {\n",
              "      border-color: transparent;\n",
              "      border-right-color: var(--fill-color);\n",
              "      border-top-color: var(--fill-color);\n",
              "    }\n",
              "    60% {\n",
              "      border-color: transparent;\n",
              "      border-right-color: var(--fill-color);\n",
              "    }\n",
              "    80% {\n",
              "      border-color: transparent;\n",
              "      border-right-color: var(--fill-color);\n",
              "      border-bottom-color: var(--fill-color);\n",
              "    }\n",
              "    90% {\n",
              "      border-color: transparent;\n",
              "      border-bottom-color: var(--fill-color);\n",
              "    }\n",
              "  }\n",
              "</style>\n",
              "\n",
              "      <script>\n",
              "        async function quickchart(key) {\n",
              "          const quickchartButtonEl =\n",
              "            document.querySelector('#' + key + ' button');\n",
              "          quickchartButtonEl.disabled = true;  // To prevent multiple clicks.\n",
              "          quickchartButtonEl.classList.add('colab-df-spinner');\n",
              "          try {\n",
              "            const charts = await google.colab.kernel.invokeFunction(\n",
              "                'suggestCharts', [key], {});\n",
              "          } catch (error) {\n",
              "            console.error('Error during call to suggestCharts:', error);\n",
              "          }\n",
              "          quickchartButtonEl.classList.remove('colab-df-spinner');\n",
              "          quickchartButtonEl.classList.add('colab-df-quickchart-complete');\n",
              "        }\n",
              "        (() => {\n",
              "          let quickchartButtonEl =\n",
              "            document.querySelector('#df-734e1238-ca6b-4ea1-bfa8-68bc8bd971c1 button');\n",
              "          quickchartButtonEl.style.display =\n",
              "            google.colab.kernel.accessAllowed ? 'block' : 'none';\n",
              "        })();\n",
              "      </script>\n",
              "    </div>\n",
              "\n",
              "    </div>\n",
              "  </div>\n"
            ],
            "application/vnd.google.colaboratory.intrinsic+json": {
              "type": "dataframe",
              "variable_name": "user_item_matrix",
              "summary": "{\n  \"name\": \"user_item_matrix\",\n  \"rows\": 4743,\n  \"fields\": [\n    {\n      \"column\": \"user_id\",\n      \"properties\": {\n        \"dtype\": \"string\",\n        \"num_unique_values\": 3783,\n        \"samples\": [\n          \"USER_04118\",\n          \"USER_03998\",\n          \"USER_09801\"\n        ],\n        \"semantic_type\": \"\",\n        \"description\": \"\"\n      }\n    },\n    {\n      \"column\": \"merchant_name\",\n      \"properties\": {\n        \"dtype\": \"category\",\n        \"num_unique_values\": 97,\n        \"samples\": [\n          \"Reliance Energy\",\n          \"Vodafone\",\n          \"ICICI Prudential\"\n        ],\n        \"semantic_type\": \"\",\n        \"description\": \"\"\n      }\n    },\n    {\n      \"column\": \"product_amount\",\n      \"properties\": {\n        \"dtype\": \"number\",\n        \"std\": 2899.8611299030376,\n        \"min\": 10.09,\n        \"max\": 17215.82,\n        \"num_unique_values\": 4734,\n        \"samples\": [\n          5069.56,\n          9736.06,\n          212.28\n        ],\n        \"semantic_type\": \"\",\n        \"description\": \"\"\n      }\n    },\n    {\n      \"column\": \"rating\",\n      \"properties\": {\n        \"dtype\": \"number\",\n        \"std\": 0.16854042983953837,\n        \"min\": 0.0,\n        \"max\": 1.0,\n        \"num_unique_values\": 4734,\n        \"samples\": [\n          0.29405727045583074,\n          0.5652750566235782,\n          0.011751317729616819\n        ],\n        \"semantic_type\": \"\",\n        \"description\": \"\"\n      }\n    }\n  ]\n}"
            }
          },
          "metadata": {},
          "execution_count": 18
        }
      ]
    },
    {
      "cell_type": "markdown",
      "source": [
        "**Interpretation:**\n",
        "\n",
        "The process converts raw transaction data into a structured format where user–merchant interactions are represented as ratings. These normalized values can then be used to train recommender algorithms, enabling merchant recommendations."
      ],
      "metadata": {
        "id": "U8iv4KHpJ6Se"
      }
    },
    {
      "cell_type": "code",
      "source": [
        "!pip install numpy==1.26.4\n",
        "!pip install surprise"
      ],
      "metadata": {
        "id": "38Wz2L4EfIKh",
        "colab": {
          "base_uri": "https://localhost:8080/"
        },
        "outputId": "92f38eb1-de6f-42d8-e979-ff7d9a751167"
      },
      "execution_count": 7,
      "outputs": [
        {
          "output_type": "stream",
          "name": "stdout",
          "text": [
            "Requirement already satisfied: numpy==1.26.4 in /usr/local/lib/python3.12/dist-packages (1.26.4)\n",
            "Collecting surprise\n",
            "  Using cached surprise-0.1-py2.py3-none-any.whl.metadata (327 bytes)\n",
            "Collecting scikit-surprise (from surprise)\n",
            "  Using cached scikit_surprise-1.1.4.tar.gz (154 kB)\n",
            "  Installing build dependencies ... \u001b[?25l\u001b[?25hdone\n",
            "  Getting requirements to build wheel ... \u001b[?25l\u001b[?25hdone\n",
            "  Preparing metadata (pyproject.toml) ... \u001b[?25l\u001b[?25hdone\n",
            "Requirement already satisfied: joblib>=1.2.0 in /usr/local/lib/python3.12/dist-packages (from scikit-surprise->surprise) (1.5.2)\n",
            "Requirement already satisfied: numpy>=1.19.5 in /usr/local/lib/python3.12/dist-packages (from scikit-surprise->surprise) (1.26.4)\n",
            "Requirement already satisfied: scipy>=1.6.0 in /usr/local/lib/python3.12/dist-packages (from scikit-surprise->surprise) (1.16.2)\n",
            "Downloading surprise-0.1-py2.py3-none-any.whl (1.8 kB)\n",
            "Building wheels for collected packages: scikit-surprise\n",
            "  Building wheel for scikit-surprise (pyproject.toml) ... \u001b[?25l\u001b[?25hdone\n",
            "  Created wheel for scikit-surprise: filename=scikit_surprise-1.1.4-cp312-cp312-linux_x86_64.whl size=2611311 sha256=fe725388456ccbc55b34299c350b49d0a95b96f619feda163b8c70c303fa196b\n",
            "  Stored in directory: /root/.cache/pip/wheels/75/fa/bc/739bc2cb1fbaab6061854e6cfbb81a0ae52c92a502a7fa454b\n",
            "Successfully built scikit-surprise\n",
            "Installing collected packages: scikit-surprise, surprise\n",
            "Successfully installed scikit-surprise-1.1.4 surprise-0.1\n"
          ]
        }
      ]
    },
    {
      "cell_type": "code",
      "source": [
        "from surprise import Dataset, Reader, SVD\n",
        "from surprise.model_selection import train_test_split\n",
        "from surprise import accuracy\n",
        "\n",
        "# prepare data for surprise\n",
        "reader = Reader(rating_scale=(0, 1))\n",
        "data = Dataset.load_from_df(user_item_matrix[['user_id', 'merchant_name', 'rating']], reader)\n",
        "\n",
        "# split data\n",
        "trainset, testset = train_test_split(data, test_size=0.2)\n",
        "\n",
        "# model SVD (matrix factorization)\n",
        "algo = SVD()\n",
        "algo.fit(trainset)\n",
        "\n",
        "# evaluate\n",
        "predictions = algo.test(testset)\n",
        "\n",
        "print(\"RMSE:\", accuracy.rmse(predictions))"
      ],
      "metadata": {
        "colab": {
          "base_uri": "https://localhost:8080/"
        },
        "id": "fACVg5DhhAPW",
        "outputId": "cee26b61-cdca-4c13-ae5d-1986869572ca"
      },
      "execution_count": 19,
      "outputs": [
        {
          "output_type": "stream",
          "name": "stdout",
          "text": [
            "RMSE: 0.1755\n",
            "RMSE: 0.17545903194557572\n"
          ]
        }
      ]
    },
    {
      "cell_type": "markdown",
      "source": [
        "**Conclusion:**\n",
        "\n",
        "The SVD-based recommender system is able to generate predictions with reasonable accuracy, achieving an RMSE of about 0.3014 on normalized ratings. This provides a solid foundation."
      ],
      "metadata": {
        "id": "mlnfvrKBK3Fc"
      }
    },
    {
      "cell_type": "code",
      "source": [
        "# rekomendasi function\n",
        "def recommend_merchants(user_id, n=5):\n",
        "    # semua merchant unik\n",
        "    all_merchants = df['merchant_name'].unique()\n",
        "\n",
        "    # merchant yang sudah pernah dipakai user\n",
        "    used_merchants = user_item_matrix[user_item_matrix['user_id'] == user_id]['merchant_name'].unique()\n",
        "\n",
        "    # kandidat merchant baru\n",
        "    candidates = [m for m in all_merchants if m not in used_merchants]\n",
        "\n",
        "    # prediksi rating\n",
        "    predictions = [(m, algo.predict(user_id, m).est) for m in candidates]\n",
        "\n",
        "    # sort by rating\n",
        "    recommendations = sorted(predictions, key=lambda x: x[1], reverse=True)[:n]\n",
        "    return recommendations\n",
        "\n",
        "\n",
        "# contoh rekomendasi untuk user random\n",
        "user = \"USER_05939\"\n",
        "print(f\"Recommendation for {user}:\")\n",
        "recs = recommend_merchants(user, n=5)\n",
        "for merchant, score in recs:\n",
        "    print(f\"- {merchant} (score: {score:.4f})\")"
      ],
      "metadata": {
        "colab": {
          "base_uri": "https://localhost:8080/"
        },
        "id": "1BwnLSLubbGV",
        "outputId": "4f7b5dd7-bc10-46ba-a60e-eefd9e166a28"
      },
      "execution_count": 45,
      "outputs": [
        {
          "output_type": "stream",
          "name": "stdout",
          "text": [
            "Recommendation for USER_05939:\n",
            "- Snapdeal (score: 0.5914)\n",
            "- Flipkart Supermart (score: 0.5459)\n",
            "- SPI Cinemas (score: 0.4752)\n",
            "- Gujarat Gas (score: 0.4748)\n",
            "- Myntra (score: 0.4395)\n"
          ]
        }
      ]
    },
    {
      "cell_type": "markdown",
      "source": [
        "**Recommendation Result for user_05939**:\n",
        "\n",
        "The recommender system suggests the following top 5 merchants that the user has not interacted with before, ranked by predicted preference:\n",
        "\n",
        "- Snapdeal (score: 0.5914)\n",
        "- Flipkart Supermart (score: 0.5459)\n",
        "- SPI Cinemas (score: 0.4752)\n",
        "- Gujarat Gas (score: 0.4748)\n",
        "- Myntra (score: 0.4395)"
      ],
      "metadata": {
        "id": "_icACyuPLUae"
      }
    },
    {
      "cell_type": "markdown",
      "source": [
        "**Interpretation:**\n",
        "\n",
        "*  The predicted ratings are on a scale from 0 to 1 (since transaction amounts were normalized).\n",
        "*   A higher score means the model believes the user is more likely to engage with that merchant.\n",
        "*   For user_05939, Snapdel is expected to be the most relevant recommendation, followed closely by Flipkart Supermart and SPI Cinemas."
      ],
      "metadata": {
        "id": "1AHrqJaXcZ-R"
      }
    },
    {
      "cell_type": "markdown",
      "source": [
        "###**Content Based Recommender System**"
      ],
      "metadata": {
        "id": "yV6Oc4bENOQC"
      }
    },
    {
      "cell_type": "markdown",
      "source": [
        "The script implements Recommender System with Content-Based Filtering using cosine similarity."
      ],
      "metadata": {
        "id": "V5hdNX1pNKnC"
      }
    },
    {
      "cell_type": "code",
      "source": [
        "import pandas as pd\n",
        "from sklearn.metrics.pairwise import cosine_similarity\n",
        "from sklearn.preprocessing import MinMaxScaler\n",
        "\n",
        "# load data\n",
        "df = pd.read_csv(\"digital_wallet_transactions.csv\")\n",
        "\n",
        "# hanya transaksi sukses\n",
        "df = df[df['transaction_status'] == \"Successful\"]\n",
        "\n",
        "# buat user-merchant matrix (nilai: jumlah transaksi atau total amount)\n",
        "user_merchant = df.groupby(['user_id', 'merchant_name'])['product_amount'].sum().unstack().fillna(0)\n",
        "\n",
        "# scaling (biar range sama)\n",
        "scaler = MinMaxScaler()\n",
        "user_merchant_scaled = scaler.fit_transform(user_merchant)\n",
        "\n",
        "# cosine similarity antar merchant\n",
        "merchant_similarity = cosine_similarity(user_merchant_scaled.T)  # transpose supaya merchant jadi axis\n",
        "merchant_similarity_df = pd.DataFrame(merchant_similarity,\n",
        "                                      index=user_merchant.columns,\n",
        "                                      columns=user_merchant.columns)\n"
      ],
      "metadata": {
        "id": "lXOvHiu2cZmX"
      },
      "execution_count": 29,
      "outputs": []
    },
    {
      "cell_type": "code",
      "source": [
        "def recommend_similar_merchants(merchant_name, n=5):\n",
        "    if merchant_name not in merchant_similarity_df.index:\n",
        "        return f\"Merchant {merchant_name} tidak ada di data\"\n",
        "\n",
        "    # ambil skor similarity\n",
        "    sim_scores = merchant_similarity_df[merchant_name].sort_values(ascending=False)\n",
        "\n",
        "    # buang diri sendiri\n",
        "    sim_scores = sim_scores.drop(merchant_name)\n",
        "\n",
        "    # top-n recommendation\n",
        "    return sim_scores.head(n)\n",
        "\n",
        "# contoh: rekomendasi merchant mirip merchant_name tertentu\n",
        "print(recommend_similar_merchants(\"Jugnoo\", n=5))\n"
      ],
      "metadata": {
        "colab": {
          "base_uri": "https://localhost:8080/"
        },
        "id": "H2pFaaNOcwHJ",
        "outputId": "fc317d82-98d1-4569-ad39-a50b6882b10a"
      },
      "execution_count": 30,
      "outputs": [
        {
          "output_type": "stream",
          "name": "stdout",
          "text": [
            "merchant_name\n",
            "LIC                0.054693\n",
            "ICICI Bank         0.052990\n",
            "Nature's Basket    0.051415\n",
            "SonyLIV            0.043282\n",
            "ACT Fibernet       0.038977\n",
            "Name: Jugnoo, dtype: float64\n"
          ]
        }
      ]
    },
    {
      "cell_type": "markdown",
      "source": [
        "**Item-Based approach**"
      ],
      "metadata": {
        "id": "aST7QwhSOUOM"
      }
    },
    {
      "cell_type": "code",
      "source": [
        "def recommend_merchants_for_user(user_id, n=5):\n",
        "    if user_id not in user_merchant.index:\n",
        "        return f\"User {user_id} tidak ada di data\"\n",
        "\n",
        "    # merchant yang pernah digunakan user\n",
        "    used_merchants = user_merchant.loc[user_id]\n",
        "    used_merchants = used_merchants[used_merchants > 0].index.tolist()\n",
        "\n",
        "    # kumpulkan rekomendasi berdasarkan merchant similarity\n",
        "    rec_scores = {}\n",
        "    for m in used_merchants:\n",
        "        similar_merchants = merchant_similarity_df[m].drop(m)\n",
        "        for merchant, score in similar_merchants.items():\n",
        "            if merchant not in used_merchants:  # hanya merchant baru\n",
        "                rec_scores[merchant] = rec_scores.get(merchant, 0) + score\n",
        "\n",
        "    # urutkan berdasarkan skor\n",
        "    ranked = sorted(rec_scores.items(), key=lambda x: x[1], reverse=True)\n",
        "    return ranked[:n]\n",
        "\n",
        "# contoh: rekomendasi merchant untuk user tertentu\n",
        "print(recommend_merchants_for_user(\"USER_08584\", n=5))\n"
      ],
      "metadata": {
        "colab": {
          "base_uri": "https://localhost:8080/"
        },
        "id": "nnyXZRWFdBIJ",
        "outputId": "29ebafb7-898e-4bc4-aab3-e36b12a57afd"
      },
      "execution_count": 32,
      "outputs": [
        {
          "output_type": "stream",
          "name": "stdout",
          "text": [
            "[('ACT Fibernet', 0.05898296836227463), ('Uber Eats', 0.04981088122228545), ('Paytm Bus', 0.04765226623348229), ('SPI Cinemas', 0.04544980364957148), ('Coursera', 0.044928002124539866)]\n"
          ]
        }
      ]
    },
    {
      "cell_type": "code",
      "source": [
        "pivot_table = user_item_matrix.pivot(index='user_id', columns='merchant_name', values='rating').fillna(0)\n",
        "\n",
        "item_similarity = cosine_similarity(pivot_table.T)\n",
        "item_similarity_df = pd.DataFrame(item_similarity,\n",
        "                                  index=pivot_table.columns,\n",
        "                                  columns=pivot_table.columns)\n",
        "\n",
        "def recommend_merchants_for_user(user_id, n=5):\n",
        "    if user_id not in pivot_table.index:\n",
        "        return f\"User {user_id} tidak ditemukan.\"\n",
        "\n",
        "    # rating user dalam bentuk vector\n",
        "    user_ratings = pivot_table.loc[user_id].values.reshape(1, -1)\n",
        "\n",
        "    # hitung skor rekomendasi = similarity antar item * rating user\n",
        "    scores = np.dot(user_ratings, item_similarity_df.values)\n",
        "\n",
        "    # jadikan series\n",
        "    scores_series = pd.Series(scores.flatten(), index=item_similarity_df.columns)\n",
        "\n",
        "    # buang merchant yang sudah pernah dipakai user\n",
        "    purchased = pivot_table.loc[user_id][pivot_table.loc[user_id] > 0].index\n",
        "    scores_series = scores_series.drop(purchased, errors='ignore')\n",
        "\n",
        "    # ambil top-N merchant\n",
        "    return scores_series.sort_values(ascending=False).head(n)\n",
        "\n",
        "#Contoh Rekomendasi\n",
        "print(\"Rekomendasi untuk USER_08584:\")\n",
        "print(recommend_merchants_for_user(\"USER_08584\", n=5))"
      ],
      "metadata": {
        "colab": {
          "base_uri": "https://localhost:8080/"
        },
        "id": "7uYFzgf3kT8Z",
        "outputId": "2f14da99-6ea4-491e-ca90-44d9d400ae5d"
      },
      "execution_count": 33,
      "outputs": [
        {
          "output_type": "stream",
          "name": "stdout",
          "text": [
            "Rekomendasi untuk USER_08584:\n",
            "merchant_name\n",
            "SPI Cinemas    0.026473\n",
            "Uber Eats      0.019900\n",
            "Idea           0.019878\n",
            "NoBroker       0.017757\n",
            "AbhiBus        0.014797\n",
            "dtype: float64\n"
          ]
        }
      ]
    },
    {
      "cell_type": "code",
      "source": [],
      "metadata": {
        "id": "M5ZLu736lXTw"
      },
      "execution_count": 37,
      "outputs": []
    },
    {
      "cell_type": "markdown",
      "source": [
        "Additional"
      ],
      "metadata": {
        "id": "qucqyAGK7yVy"
      }
    },
    {
      "cell_type": "code",
      "source": [
        "# -----------------------------\n",
        "# 1. Top-N user berdasarkan FREKUENSI transaksi\n",
        "# -----------------------------\n",
        "top_users_freq = (\n",
        "    df.groupby(\"user_id\")[\"transaction_id\"]\n",
        "      .count()\n",
        "      .reset_index(name=\"total_transactions\")\n",
        "      .sort_values(by=\"total_transactions\", ascending=False)\n",
        ")\n",
        "\n",
        "print(\"Top 10 User berdasarkan jumlah transaksi:\")\n",
        "print(top_users_freq.head(10))\n",
        "\n",
        "# -----------------------------\n",
        "# 2. Top-N user berdasarkan TOTAL NOMINAL transaksi\n",
        "# -----------------------------\n",
        "top_users_amount = (\n",
        "    df.groupby(\"user_id\")[\"product_amount\"]\n",
        "      .sum()\n",
        "      .reset_index(name=\"total_amount\")\n",
        "      .sort_values(by=\"total_amount\", ascending=False)\n",
        ")\n",
        "\n",
        "print(\"\\nTop 10 User berdasarkan total nominal transaksi:\")\n",
        "print(top_users_amount.head(10))"
      ],
      "metadata": {
        "colab": {
          "base_uri": "https://localhost:8080/"
        },
        "id": "ipbx9XsARZw4",
        "outputId": "f7883eec-1dd8-41da-f2ca-18c7a7345f11"
      },
      "execution_count": null,
      "outputs": [
        {
          "output_type": "stream",
          "name": "stdout",
          "text": [
            "Top 10 User berdasarkan jumlah transaksi:\n",
            "         user_id  total_transactions\n",
            "3508  USER_09328                   4\n",
            "3235  USER_08584                   4\n",
            "2256  USER_05939                   4\n",
            "2506  USER_06591                   4\n",
            "1632  USER_04319                   4\n",
            "2208  USER_05836                   4\n",
            "1518  USER_03945                   4\n",
            "360   USER_00930                   4\n",
            "2707  USER_07098                   4\n",
            "2007  USER_05280                   4\n",
            "\n",
            "Top 10 User berdasarkan total nominal transaksi:\n",
            "         user_id  total_amount\n",
            "3366  USER_08946      28799.29\n",
            "2208  USER_05836      25189.19\n",
            "1518  USER_03945      25063.95\n",
            "3235  USER_08584      23842.59\n",
            "1496  USER_03888      23800.76\n",
            "368   USER_00949      23748.91\n",
            "482   USER_01223      23524.42\n",
            "2007  USER_05280      23482.35\n",
            "1791  USER_04724      23471.34\n",
            "3141  USER_08295      22091.62\n"
          ]
        }
      ]
    },
    {
      "cell_type": "code",
      "source": [
        "user = \"USER_05939\"\n",
        "\n",
        "# ambil semua merchant_name yang pernah dipakai user ini\n",
        "user_merchants = df.loc[df['user_id'] == user, 'merchant_name'].unique()\n",
        "\n",
        "print(f\"Merchants used by {user}:\")\n",
        "for m in user_merchants:\n",
        "    print(\"-\", m)"
      ],
      "metadata": {
        "colab": {
          "base_uri": "https://localhost:8080/"
        },
        "id": "WaHlQarngsrS",
        "outputId": "7d65e881-84c2-408b-84f5-7b94f4a9dff5"
      },
      "execution_count": 47,
      "outputs": [
        {
          "output_type": "stream",
          "name": "stdout",
          "text": [
            "Merchants used by USER_05939:\n",
            "- Carnival Cinemas\n",
            "- Meru\n",
            "- Bangalore Water Supply\n",
            "- PVR Cinemas\n"
          ]
        }
      ]
    }
  ]
}